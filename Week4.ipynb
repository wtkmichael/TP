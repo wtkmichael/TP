{
  "nbformat": 4,
  "nbformat_minor": 0,
  "metadata": {
    "colab": {
      "name": "Week4.ipynb",
      "version": "0.3.2",
      "provenance": [],
      "collapsed_sections": [],
      "include_colab_link": true
    },
    "kernelspec": {
      "name": "python3",
      "display_name": "Python 3"
    }
  },
  "cells": [
    {
      "cell_type": "markdown",
      "metadata": {
        "id": "view-in-github",
        "colab_type": "text"
      },
      "source": [
        "<a href=\"https://colab.research.google.com/github/wtkmichael/TP_Principles-of-Machine-Learning/blob/master/Week4.ipynb\" target=\"_parent\"><img src=\"https://colab.research.google.com/assets/colab-badge.svg\" alt=\"Open In Colab\"/></a>"
      ]
    },
    {
      "cell_type": "code",
      "metadata": {
        "id": "cajxMJY13PUV",
        "colab_type": "code",
        "colab": {}
      },
      "source": [
        "#### To Do\n",
        "#In Google drive, Create a folder called TP\n",
        "#dump ml_house_data_set.csv inside the TP folder\n",
        "\n",
        "# link colab to google drive\n",
        "# link will be provide, you need to click the link and sign in your google account the copy and paste the authorization code \n",
        "from google.colab import drive\n",
        "drive.mount('/content/gdrive')\n",
        "\n",
        "\n",
        "# check where your file in the TP folder\n",
        "# !ls \"/content/gdrive/My Drive/TP\"\n"
      ],
      "execution_count": 0,
      "outputs": []
    },
    {
      "cell_type": "code",
      "metadata": {
        "id": "RHZWjIawCeg4",
        "colab_type": "code",
        "colab": {}
      },
      "source": [
        "import pandas as pd\n",
        "from sklearn.model_selection import train_test_split\n",
        "from sklearn import ensemble\n",
        "from sklearn.metrics import mean_absolute_error\n",
        "from sklearn.externals import joblib\n",
        "\n",
        "df = pd.read_csv('/content/gdrive/My Drive/TP/ml_house_data_set.csv')\n"
      ],
      "execution_count": 0,
      "outputs": []
    },
    {
      "cell_type": "code",
      "metadata": {
        "id": "SEFMTI19G75S",
        "colab_type": "code",
        "colab": {}
      },
      "source": [
        "#remove the field from the dataset that we dont want to include in our model\n",
        "\n",
        "del df['house_number']\n",
        "del df['unit_number']\n",
        "del df['street_name']\n",
        "del df['zip_code']\n",
        "\n",
        "\n",
        "#replace categorical data with one hot encoded data\n",
        "\n",
        "features_df =pd.get_dummies(df,columns=['garage_type','city'])\n",
        "\n",
        "#remove the sale price from the feature data\n",
        "del features_df['sale_price']\n",
        "\n",
        "\n",
        "#create the x and y arrays\n",
        "x= features_df.values\n",
        "y=df['sale_price'].values"
      ],
      "execution_count": 0,
      "outputs": []
    },
    {
      "cell_type": "code",
      "metadata": {
        "id": "HzML1Xn-Jjgh",
        "colab_type": "code",
        "colab": {
          "base_uri": "https://localhost:8080/",
          "height": 170
        },
        "outputId": "70d53841-3378-45ea-da1b-bc7cff28a1d6"
      },
      "source": [
        "#split dataset in training set  (70%) & test (30%)\n",
        "\n",
        "X_train, X_test, y_train, y_test = train_test_split(x, y, test_size=0.3, random_state=7)\n",
        "\n",
        "#Fit regression model\n",
        "\n",
        "model = ensemble.GradientBoostingRegressor(\n",
        "\n",
        "    n_estimators=1000, #how many decision trees to built\n",
        "    learning_rate=0.1, #how much decision trees influence overall prediction\n",
        "    max_depth=6,\n",
        "    min_samples_leaf=9,\n",
        "    max_features=0.2,\n",
        "    loss='huber',\n",
        "    random_state=7\n",
        ")\n",
        "\n",
        "model.fit(X_train,y_train)\n",
        "\n",
        " \n",
        "#Save the Trained model to a file so we can use it in other programs\n",
        "#joblib.dump(model, 'models//trained_house_classifier_model.pkl') #Must create the folder models inside ValueEstimator folder"
      ],
      "execution_count": 45,
      "outputs": [
        {
          "output_type": "execute_result",
          "data": {
            "text/plain": [
              "GradientBoostingRegressor(alpha=0.9, criterion='friedman_mse', init=None,\n",
              "             learning_rate=0.1, loss='huber', max_depth=6,\n",
              "             max_features=0.2, max_leaf_nodes=None,\n",
              "             min_impurity_decrease=0.0, min_impurity_split=None,\n",
              "             min_samples_leaf=9, min_samples_split=2,\n",
              "             min_weight_fraction_leaf=0.0, n_estimators=1000,\n",
              "             n_iter_no_change=None, presort='auto', random_state=7,\n",
              "             subsample=1.0, tol=0.0001, validation_fraction=0.1, verbose=0,\n",
              "             warm_start=False)"
            ]
          },
          "metadata": {
            "tags": []
          },
          "execution_count": 45
        }
      ]
    },
    {
      "cell_type": "code",
      "metadata": {
        "id": "x6ZdvrzVPYG4",
        "colab_type": "code",
        "colab": {
          "base_uri": "https://localhost:8080/",
          "height": 51
        },
        "outputId": "ba83c299-6f01-4392-bc60-e20554b8e42a"
      },
      "source": [
        "mse = mean_absolute_error(y_train, model.predict(X_train))\n",
        "print(\"Training Set Mean Absolute Error: %.4f\" %mse)\n",
        "\n",
        "\n",
        "#find the error rate on the test set\n",
        "\n",
        "mse = mean_absolute_error(y_test, model.predict(X_test))\n",
        "print(\"Test Set Mean Absolute Error: %.4f\" %mse)"
      ],
      "execution_count": 46,
      "outputs": [
        {
          "output_type": "stream",
          "text": [
            "Training Set Mean Absolute Error: 45135.9883\n",
            "Training Set Mean Absolute Error: 59707.2839\n"
          ],
          "name": "stdout"
        }
      ]
    },
    {
      "cell_type": "code",
      "metadata": {
        "id": "myOaAPgWQHiw",
        "colab_type": "code",
        "colab": {}
      },
      "source": [
        ""
      ],
      "execution_count": 0,
      "outputs": []
    }
  ]
}