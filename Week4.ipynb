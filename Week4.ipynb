{
  "nbformat": 4,
  "nbformat_minor": 0,
  "metadata": {
    "colab": {
      "name": "Week4.ipynb",
      "version": "0.3.2",
      "provenance": [],
      "include_colab_link": true
    },
    "kernelspec": {
      "name": "python3",
      "display_name": "Python 3"
    }
  },
  "cells": [
    {
      "cell_type": "markdown",
      "metadata": {
        "id": "view-in-github",
        "colab_type": "text"
      },
      "source": [
        "<a href=\"https://colab.research.google.com/github/wtkmichael/TP_Principles-of-Machine-Learning/blob/master/Week4.ipynb\" target=\"_parent\"><img src=\"https://colab.research.google.com/assets/colab-badge.svg\" alt=\"Open In Colab\"/></a>"
      ]
    },
    {
      "cell_type": "code",
      "metadata": {
        "id": "cajxMJY13PUV",
        "colab_type": "code",
        "colab": {
          "base_uri": "https://localhost:8080/",
          "height": 122
        },
        "outputId": "cf1bfa3c-60b0-4c52-f443-33b668d4252e"
      },
      "source": [
        "import pandas\n",
        "import webbrowser\n",
        "import os\n",
        "\n",
        "from google.colab import drive\n",
        "drive.mount('/content/gdrive')\n",
        "\n",
        "# check ls\n",
        "# !ls \"/content/gdrive/My Drive\"\n"
      ],
      "execution_count": 7,
      "outputs": [
        {
          "output_type": "stream",
          "text": [
            "Go to this URL in a browser: https://accounts.google.com/o/oauth2/auth?client_id=947318989803-6bn6qk8qdgf4n4g3pfee6491hc0brc4i.apps.googleusercontent.com&redirect_uri=urn%3Aietf%3Awg%3Aoauth%3A2.0%3Aoob&scope=email%20https%3A%2F%2Fwww.googleapis.com%2Fauth%2Fdocs.test%20https%3A%2F%2Fwww.googleapis.com%2Fauth%2Fdrive%20https%3A%2F%2Fwww.googleapis.com%2Fauth%2Fdrive.photos.readonly%20https%3A%2F%2Fwww.googleapis.com%2Fauth%2Fpeopleapi.readonly&response_type=code\n",
            "\n",
            "Enter your authorization code:\n",
            "··········\n",
            "Mounted at /content/gdrive\n"
          ],
          "name": "stdout"
        }
      ]
    },
    {
      "cell_type": "code",
      "metadata": {
        "id": "RHZWjIawCeg4",
        "colab_type": "code",
        "colab": {}
      },
      "source": [
        "import pandas as pd\n",
        "from sklearn.model_selection import train_test_split\n",
        "from sklearn import ensemble\n",
        "from sklearn.metrics import mean_absolute_error\n",
        "from sklearn.externals import joblib\n",
        "\n",
        "##import pandas\n",
        "##import webbrowser\n",
        "##import os\n",
        "\n",
        "\n",
        "#id <- \"0B-wuZ2XMFIBUd09Ob0pKVkRzQTA\" # google file ID\n",
        "#read.csv(sprintf(\"https://docs.google.com/uc?id=%s&export=download\", id))\n",
        "\n",
        "#read dataset into a data table using pandas\n",
        "df = pd.read_csv('/content/gdrive/My Drive/TP/ml_house_data_set.csv')\n",
        "\n",
        "# create a web page view of data\n",
        "#html =data_table[0:100].to_html()\n",
        "\n",
        "#filename =\"data.html\"\n",
        "\n",
        "#save the html to a temporary file\n",
        "#with open(filename, \"w\") as f:\n",
        "#  f.write(html)\n",
        "  \n",
        "#open the webpage in our webbrower\n",
        "#full_filename =os.path.abspath(filename)\n",
        "#webbrowser.open(\"file://{}\".format(full_filename))\n"
      ],
      "execution_count": 0,
      "outputs": []
    },
    {
      "cell_type": "code",
      "metadata": {
        "id": "SEFMTI19G75S",
        "colab_type": "code",
        "colab": {}
      },
      "source": [
        "#remove the field from the dataset that we dont want to include in our model\n",
        "\n",
        "del df['house_number']\n",
        "del df['unit_number']\n",
        "del df['street_name']\n",
        "del df['zip_code']\n",
        "\n",
        "\n",
        "#replcase categorical data with one hot encoded data\n",
        "\n",
        "features_df =pd.get_dummies(df,columns=['garage_type','city'])\n",
        "\n",
        "#remove the sale price from the feature data\n",
        "del features_df['sale_price']\n",
        "\n",
        "\n",
        "#create the x and y arrays\n",
        "x= features_df.values\n",
        "y=df['sale_price'].values"
      ],
      "execution_count": 0,
      "outputs": []
    },
    {
      "cell_type": "code",
      "metadata": {
        "id": "HzML1Xn-Jjgh",
        "colab_type": "code",
        "colab": {
          "base_uri": "https://localhost:8080/",
          "height": 170
        },
        "outputId": "70d53841-3378-45ea-da1b-bc7cff28a1d6"
      },
      "source": [
        "#split dataset in training set  (70%) & test (30%)\n",
        "\n",
        "X_train, X_test, y_train, y_test = train_test_split(x, y, test_size=0.3, random_state=7)\n",
        "\n",
        "#Fit regression model\n",
        "\n",
        "model = ensemble.GradientBoostingRegressor(\n",
        "\n",
        "    n_estimators=1000, #how many decision trees to built\n",
        "    learning_rate=0.1, #how much decision trees influence overall prediction\n",
        "    max_depth=6,\n",
        "    min_samples_leaf=9,\n",
        "    max_features=0.2,\n",
        "    loss='huber',\n",
        "    random_state=7\n",
        ")\n",
        "\n",
        "model.fit(X_train,y_train)\n",
        "\n",
        " \n",
        "\n",
        "#Save the Trained model to a file so we can use it in other programs\n",
        "\n",
        "#joblib.dump(model, 'models//trained_house_classifier_model.pkl') #Must create the folder models inside ValueEstimator folder"
      ],
      "execution_count": 45,
      "outputs": [
        {
          "output_type": "execute_result",
          "data": {
            "text/plain": [
              "GradientBoostingRegressor(alpha=0.9, criterion='friedman_mse', init=None,\n",
              "             learning_rate=0.1, loss='huber', max_depth=6,\n",
              "             max_features=0.2, max_leaf_nodes=None,\n",
              "             min_impurity_decrease=0.0, min_impurity_split=None,\n",
              "             min_samples_leaf=9, min_samples_split=2,\n",
              "             min_weight_fraction_leaf=0.0, n_estimators=1000,\n",
              "             n_iter_no_change=None, presort='auto', random_state=7,\n",
              "             subsample=1.0, tol=0.0001, validation_fraction=0.1, verbose=0,\n",
              "             warm_start=False)"
            ]
          },
          "metadata": {
            "tags": []
          },
          "execution_count": 45
        }
      ]
    },
    {
      "cell_type": "code",
      "metadata": {
        "id": "x6ZdvrzVPYG4",
        "colab_type": "code",
        "colab": {
          "base_uri": "https://localhost:8080/",
          "height": 51
        },
        "outputId": "ba83c299-6f01-4392-bc60-e20554b8e42a"
      },
      "source": [
        "mse = mean_absolute_error(y_train, model.predict(X_train))\n",
        "\n",
        "print(\"Training Set Mean Absolute Error: %.4f\" %mse)\n",
        "\n",
        "\n",
        "#find the error rate on the test set\n",
        "\n",
        "mse = mean_absolute_error(y_test, model.predict(X_test))\n",
        "\n",
        "print(\"Training Set Mean Absolute Error: %.4f\" %mse)"
      ],
      "execution_count": 46,
      "outputs": [
        {
          "output_type": "stream",
          "text": [
            "Training Set Mean Absolute Error: 45135.9883\n",
            "Training Set Mean Absolute Error: 59707.2839\n"
          ],
          "name": "stdout"
        }
      ]
    },
    {
      "cell_type": "code",
      "metadata": {
        "id": "myOaAPgWQHiw",
        "colab_type": "code",
        "colab": {}
      },
      "source": [
        ""
      ],
      "execution_count": 0,
      "outputs": []
    }
  ]
}