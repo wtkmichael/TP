{
  "nbformat": 4,
  "nbformat_minor": 0,
  "metadata": {
    "colab": {
      "name": "Week2.ipynb",
      "version": "0.3.2",
      "provenance": [],
      "collapsed_sections": [],
      "include_colab_link": true
    },
    "kernelspec": {
      "name": "python3",
      "display_name": "Python 3"
    }
  },
  "cells": [
    {
      "cell_type": "markdown",
      "metadata": {
        "id": "view-in-github",
        "colab_type": "text"
      },
      "source": [
        "<a href=\"https://colab.research.google.com/github/wtkmichael/TP_Principles-of-Machine-Learning/blob/master/Week2.ipynb\" target=\"_parent\"><img src=\"https://colab.research.google.com/assets/colab-badge.svg\" alt=\"Open In Colab\"/></a>"
      ]
    },
    {
      "metadata": {
        "id": "WYmqnPXQoVct",
        "colab_type": "code",
        "colab": {}
      },
      "cell_type": "code",
      "source": [
        "#Supervised Learning I\n",
        "\n",
        "\n",
        "# Simple Home Value Estimator \n",
        "def estimate_home_value(size_in_sqft, number_of_bedrooms):\n",
        "  # Assume all homes are worth at least $50,000\n",
        "  value = 50000\n",
        "  # Adjust the value estimate based on the size of the house\n",
        "  value = value + (size_in_sqft * 92.1)\n",
        "  # Adjust the value estimate based on the number of bedrooms\n",
        "  value = value + (number_of_bedrooms * 10001)\n",
        "  return value"
      ],
      "execution_count": 0,
      "outputs": []
    },
    {
      "metadata": {
        "id": "qLFWtBib7H6o",
        "colab_type": "code",
        "colab": {
          "base_uri": "https://localhost:8080/",
          "height": 51
        },
        "outputId": "1cdd1e06-2966-42d2-bdb6-76d7042f462d"
      },
      "cell_type": "code",
      "source": [
        "# Estimate the value of our house:\n",
        "# - 5 bedrooms\n",
        "# - 3800 sq ft\n",
        "# Actual value: $450,000\n",
        "value = estimate_home_value(2200, 4)\n",
        "print(\"Estimated valued:\")\n",
        "print(value)\n"
      ],
      "execution_count": 11,
      "outputs": [
        {
          "output_type": "stream",
          "text": [
            "Estimated valued:\n",
            "292624.0\n"
          ],
          "name": "stdout"
        }
      ]
    },
    {
      "metadata": {
        "id": "QpO-xnyP7a0h",
        "colab_type": "code",
        "colab": {}
      },
      "cell_type": "code",
      "source": [
        ""
      ],
      "execution_count": 0,
      "outputs": []
    }
  ]
}